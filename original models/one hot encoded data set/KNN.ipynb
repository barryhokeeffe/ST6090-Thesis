{
 "cells": [
  {
   "attachments": {},
   "cell_type": "markdown",
   "metadata": {},
   "source": [
    "##### Set Up"
   ]
  },
  {
   "cell_type": "code",
   "execution_count": 1,
   "metadata": {},
   "outputs": [],
   "source": [
    "## imports and dependencies \n",
    "\n",
    "# standard libraries \n",
    "import pandas as pd \n",
    "import numpy as np\n",
    "import matplotlib.pyplot as plt\n",
    "\n",
    "# models\n",
    "from sklearn.neighbors import KNeighborsRegressor\n",
    "\n",
    "# data split\n",
    "from sklearn.model_selection import train_test_split\n",
    "\n",
    "# scaling \n",
    "from sklearn.preprocessing import StandardScaler\n",
    "\n",
    "# PCA\n",
    "from sklearn.decomposition import PCA\n",
    "\n",
    "# accuracy\n",
    "from sklearn.metrics import mean_absolute_error"
   ]
  },
  {
   "attachments": {},
   "cell_type": "markdown",
   "metadata": {},
   "source": [
    "##### Data"
   ]
  },
  {
   "cell_type": "code",
   "execution_count": 2,
   "metadata": {},
   "outputs": [],
   "source": [
    "df = pd.read_csv(\"one_hot_dataset.csv\")"
   ]
  },
  {
   "cell_type": "code",
   "execution_count": 3,
   "metadata": {},
   "outputs": [],
   "source": [
    "df = df.drop(['Weekly Gross', 'Total Gross', 'Annual Gross', 'Weekly Net', 'Annual Net', 'Ln Annual Net', 'AgeSQ'], axis=1)"
   ]
  },
  {
   "attachments": {},
   "cell_type": "markdown",
   "metadata": {},
   "source": [
    "##### Pre Processing"
   ]
  },
  {
   "cell_type": "code",
   "execution_count": 4,
   "metadata": {},
   "outputs": [],
   "source": [
    "# parameters and target\n",
    "x = df.drop('Ln Weekly Gross', axis=1)\n",
    "y = df['Ln Weekly Gross']"
   ]
  },
  {
   "cell_type": "code",
   "execution_count": 5,
   "metadata": {},
   "outputs": [],
   "source": [
    "# train test split\n",
    "x_train, x_test, y_train, y_test = train_test_split(x, y, test_size=0.2, random_state=42)"
   ]
  },
  {
   "cell_type": "code",
   "execution_count": 6,
   "metadata": {},
   "outputs": [],
   "source": [
    "# scale\n",
    "scaler = StandardScaler()\n",
    "x_train_scaled = scaler.fit_transform(x_train)\n",
    "x_test_scaled = scaler.transform(x_test)"
   ]
  },
  {
   "cell_type": "code",
   "execution_count": 7,
   "metadata": {},
   "outputs": [],
   "source": [
    "# PCA\n",
    "pca = PCA(n_components=0.9)  \n",
    "x_train_pca = pca.fit_transform(x_train_scaled)\n",
    "x_test_pca = pca.transform(x_test_scaled)"
   ]
  },
  {
   "attachments": {},
   "cell_type": "markdown",
   "metadata": {},
   "source": [
    "##### Models"
   ]
  },
  {
   "cell_type": "code",
   "execution_count": 8,
   "metadata": {},
   "outputs": [
    {
     "name": "stdout",
     "output_type": "stream",
     "text": [
      "K used 1\n",
      "Mean Absolute Error: 0.4862846239937194\n",
      "\n",
      "K used 2\n",
      "Mean Absolute Error: 0.5245966801919851\n",
      "\n",
      "K used 3\n",
      "Mean Absolute Error: 0.523869376775241\n",
      "\n",
      "K used 4\n",
      "Mean Absolute Error: 0.5192941676506271\n",
      "\n",
      "K used 5\n",
      "Mean Absolute Error: 0.511432885575452\n",
      "\n",
      "K used 6\n",
      "Mean Absolute Error: 0.5147734213616006\n",
      "\n",
      "K used 7\n",
      "Mean Absolute Error: 0.5131166953867082\n",
      "\n",
      "K used 8\n",
      "Mean Absolute Error: 0.5169128929106586\n",
      "\n",
      "K used 9\n",
      "Mean Absolute Error: 0.5185343567507943\n",
      "\n",
      "K used 10\n",
      "Mean Absolute Error: 0.5235039293737508\n",
      "\n",
      "K used 11\n",
      "Mean Absolute Error: 0.5207527921557189\n",
      "\n",
      "K used 12\n",
      "Mean Absolute Error: 0.5246418068011784\n",
      "\n",
      "K used 13\n",
      "Mean Absolute Error: 0.5317551192931361\n",
      "\n",
      "K used 14\n",
      "Mean Absolute Error: 0.5364464346282463\n",
      "\n",
      "K used 15\n",
      "Mean Absolute Error: 0.5400559232755071\n",
      "\n",
      "K used 16\n",
      "Mean Absolute Error: 0.5430226897211708\n",
      "\n",
      "K used 17\n",
      "Mean Absolute Error: 0.5441640360631715\n",
      "\n",
      "K used 18\n",
      "Mean Absolute Error: 0.5483699197515406\n",
      "\n",
      "K used 19\n",
      "Mean Absolute Error: 0.5490826810600095\n",
      "\n",
      "K used 20\n",
      "Mean Absolute Error: 0.5517365036315076\n",
      "\n",
      "K used 21\n",
      "Mean Absolute Error: 0.5505394130724398\n",
      "\n",
      "K used 22\n",
      "Mean Absolute Error: 0.5519661010657686\n",
      "\n",
      "K used 23\n",
      "Mean Absolute Error: 0.5553934027670666\n",
      "\n",
      "K used 24\n",
      "Mean Absolute Error: 0.5547288999517361\n",
      "\n",
      "K used 25\n",
      "Mean Absolute Error: 0.5570312435161549\n",
      "\n",
      "K used 26\n",
      "Mean Absolute Error: 0.5582812312343569\n",
      "\n",
      "K used 27\n",
      "Mean Absolute Error: 0.5599357329383005\n",
      "\n",
      "K used 28\n",
      "Mean Absolute Error: 0.5610203969349522\n",
      "\n",
      "K used 29\n",
      "Mean Absolute Error: 0.5617769720489763\n",
      "\n",
      "K used 30\n",
      "Mean Absolute Error: 0.562950795038148\n",
      "\n",
      "K used 31\n",
      "Mean Absolute Error: 0.5644141883502698\n",
      "\n",
      "K used 32\n",
      "Mean Absolute Error: 0.5631966890888072\n",
      "\n",
      "K used 33\n",
      "Mean Absolute Error: 0.5655753445469159\n",
      "\n",
      "K used 34\n",
      "Mean Absolute Error: 0.5665861629585832\n",
      "\n",
      "K used 35\n",
      "Mean Absolute Error: 0.5667773110479168\n",
      "\n",
      "K used 36\n",
      "Mean Absolute Error: 0.5694974349773608\n",
      "\n",
      "K used 37\n",
      "Mean Absolute Error: 0.5688083492342462\n",
      "\n",
      "K used 38\n",
      "Mean Absolute Error: 0.5691244982066491\n",
      "\n",
      "K used 39\n",
      "Mean Absolute Error: 0.5691791457080327\n",
      "\n"
     ]
    }
   ],
   "source": [
    "lst = []\n",
    "\n",
    "for i in range(1, int(len(df)**(1/2))):\n",
    "    model = KNeighborsRegressor(n_neighbors=i)\n",
    "    model.fit(x_train_scaled, y_train)\n",
    "\n",
    "    y_pred = model.predict(x_test_scaled)\n",
    "    \n",
    "    mae = mean_absolute_error(y_test, y_pred)\n",
    "\n",
    "    lst.append(mae)\n",
    "\n",
    "    print(\"K used\", i)\n",
    "    print(\"Mean Absolute Error:\", mae)\n",
    "    print(\"\")"
   ]
  },
  {
   "cell_type": "code",
   "execution_count": 9,
   "metadata": {},
   "outputs": [
    {
     "name": "stdout",
     "output_type": "stream",
     "text": [
      "Mean Absolute Error (scaled): 0.4862846239937194\n"
     ]
    }
   ],
   "source": [
    "# KNN Scaled\n",
    "KNN_scaled = KNeighborsRegressor(n_neighbors=lst.index(min(lst))+1)\n",
    "KNN_scaled.fit(x_train_scaled, y_train)\n",
    "y_pred_scaled = KNN_scaled.predict(x_test_scaled)\n",
    "mae_scaled = mean_absolute_error(y_test, y_pred_scaled)\n",
    "print(\"Mean Absolute Error (scaled):\", mae_scaled)"
   ]
  },
  {
   "cell_type": "code",
   "execution_count": 10,
   "metadata": {},
   "outputs": [
    {
     "name": "stdout",
     "output_type": "stream",
     "text": [
      "Mean Absolute Error (PCA): 0.5163119708966725\n"
     ]
    }
   ],
   "source": [
    "# KNN PCA\n",
    "KNN_pca = KNeighborsRegressor(n_neighbors=lst.index(min(lst))+1)\n",
    "KNN_pca.fit(x_train_pca, y_train)\n",
    "y_pred_pca = KNN_pca.predict(x_test_pca)\n",
    "mae_pca = mean_absolute_error(y_test, y_pred_pca)\n",
    "print(\"Mean Absolute Error (PCA):\", mae_pca)"
   ]
  },
  {
   "cell_type": "code",
   "execution_count": 11,
   "metadata": {},
   "outputs": [
    {
     "data": {
      "text/plain": [
       "0"
      ]
     },
     "execution_count": 11,
     "metadata": {},
     "output_type": "execute_result"
    }
   ],
   "source": [
    "lst.index(min(lst))"
   ]
  },
  {
   "cell_type": "code",
   "execution_count": 12,
   "metadata": {},
   "outputs": [
    {
     "data": {
      "image/png": "[encoded data removed]",
      "text/plain": [
       "<Figure size 640x480 with 1 Axes>"
      ]
     },
     "metadata": {},
     "output_type": "display_data"
    }
   ],
   "source": [
    "# iterate through numbers of principal components\n",
    "num_components = range(1, pca.n_components_ + 1)\n",
    "mae_values = []\n",
    "\n",
    "for n in num_components:\n",
    "    pca = PCA(n_components=n)\n",
    "    x_train_pca = pca.fit_transform(x_train_scaled)\n",
    "    x_test_pca = pca.transform(x_test_scaled)\n",
    "\n",
    "    KNN = KNeighborsRegressor(n_neighbors=lst.index(min(lst))+1)\n",
    "    KNN.fit(x_train_pca, y_train)\n",
    "    y_pred = KNN.predict(x_test_pca)\n",
    "\n",
    "    mae = mean_absolute_error(y_test, y_pred)\n",
    "    mae_values.append(mae)\n",
    "\n",
    "# Plot the mean absolute error vs. number of principal components\n",
    "plt.plot(num_components, mae_values)\n",
    "plt.xlabel(\"Number of Principal Components\")\n",
    "plt.ylabel(\"Mean Absolute Error\")\n",
    "plt.title(\"Mean Absolute Error vs. Number of Principal Components\")\n",
    "plt.axhline(y=mae_scaled, color='r', ls='--', label='Scaled')\n",
    "plt.axvline(x=pca.n_components_, color='g', ls='--', label='90% Variance')\n",
    "plt.legend()\n",
    "plt.show()"
   ]
  },
  {
   "cell_type": "code",
   "execution_count": 13,
   "metadata": {},
   "outputs": [
    {
     "data": {
      "text/plain": [
       "(108, 0.5054979171963412)"
      ]
     },
     "execution_count": 13,
     "metadata": {},
     "output_type": "execute_result"
    }
   ],
   "source": [
    "num_components[mae_values.index(min(mae_values))], min(mae_values)"
   ]
  }
 ],
 "metadata": {
  "kernelspec": {
   "display_name": "Python 3",
   "language": "python",
   "name": "python3"
  },
  "language_info": {
   "codemirror_mode": {
    "name": "ipython",
    "version": 3
   },
   "file_extension": ".py",
   "mimetype": "text/x-python",
   "name": "python",
   "nbconvert_exporter": "python",
   "pygments_lexer": "ipython3",
   "version": "3.11.3"
  },
  "orig_nbformat": 4
 },
 "nbformat": 4,
 "nbformat_minor": 2
}
