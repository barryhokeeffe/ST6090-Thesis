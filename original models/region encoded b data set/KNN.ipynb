{
 "cells": [
  {
   "attachments": {},
   "cell_type": "markdown",
   "metadata": {},
   "source": [
    "##### Set Up"
   ]
  },
  {
   "cell_type": "code",
   "execution_count": 1,
   "metadata": {},
   "outputs": [],
   "source": [
    "## imports and dependencies \n",
    "\n",
    "# standard libraries \n",
    "import pandas as pd \n",
    "import numpy as np\n",
    "import matplotlib.pyplot as plt\n",
    "\n",
    "# models\n",
    "from sklearn.neighbors import KNeighborsRegressor\n",
    "\n",
    "# data split\n",
    "from sklearn.model_selection import train_test_split\n",
    "\n",
    "# scaling \n",
    "from sklearn.preprocessing import StandardScaler\n",
    "\n",
    "# PCA\n",
    "from sklearn.decomposition import PCA\n",
    "\n",
    "# accuracy\n",
    "from sklearn.metrics import mean_absolute_error"
   ]
  },
  {
   "attachments": {},
   "cell_type": "markdown",
   "metadata": {},
   "source": [
    "##### Data"
   ]
  },
  {
   "cell_type": "code",
   "execution_count": 2,
   "metadata": {},
   "outputs": [],
   "source": [
    "df = pd.read_csv(\"region_dataset.csv\")"
   ]
  },
  {
   "cell_type": "code",
   "execution_count": 3,
   "metadata": {},
   "outputs": [],
   "source": [
    "df = df.drop(['Weekly Gross', 'Total Gross', 'Annual Gross', 'Weekly Net', 'Annual Net', 'Ln Annual Net', 'AgeSQ', 'Pos_AM', 'Pos_CB', 'Pos_CF', 'Pos_CM', 'Pos_DF', 'Pos_DM', 'Pos_FW', 'Pos_FW,DF', 'Pos_FW,MF', 'Pos_LB', 'Pos_LM', 'Pos_LW', 'Pos_MF', 'Pos_MF,DF', 'Pos_RB', 'Pos_RM',\t'Pos_RW', 'Pos_SS'], axis=1)"
   ]
  },
  {
   "attachments": {},
   "cell_type": "markdown",
   "metadata": {},
   "source": [
    "##### Pre Processing"
   ]
  },
  {
   "cell_type": "code",
   "execution_count": 4,
   "metadata": {},
   "outputs": [],
   "source": [
    "# parameters and target\n",
    "x = df.drop('Ln Weekly Gross', axis=1)\n",
    "y = df['Ln Weekly Gross']"
   ]
  },
  {
   "cell_type": "code",
   "execution_count": 5,
   "metadata": {},
   "outputs": [],
   "source": [
    "# train test split\n",
    "x_train, x_test, y_train, y_test = train_test_split(x, y, test_size=0.2, random_state=42)"
   ]
  },
  {
   "cell_type": "code",
   "execution_count": 6,
   "metadata": {},
   "outputs": [],
   "source": [
    "# scale\n",
    "scaler = StandardScaler()\n",
    "x_train_scaled = scaler.fit_transform(x_train)\n",
    "x_test_scaled = scaler.transform(x_test)"
   ]
  },
  {
   "cell_type": "code",
   "execution_count": 7,
   "metadata": {},
   "outputs": [],
   "source": [
    "# PCA\n",
    "pca = PCA(n_components=0.9)  \n",
    "x_train_pca = pca.fit_transform(x_train_scaled)\n",
    "x_test_pca = pca.transform(x_test_scaled)"
   ]
  },
  {
   "attachments": {},
   "cell_type": "markdown",
   "metadata": {},
   "source": [
    "##### Models"
   ]
  },
  {
   "cell_type": "code",
   "execution_count": 9,
   "metadata": {},
   "outputs": [
    {
     "name": "stdout",
     "output_type": "stream",
     "text": [
      "K used 1\n",
      "Mean Absolute Error: 0.6812978326311322\n",
      "\n",
      "K used 2\n",
      "Mean Absolute Error: 0.5795367117279592\n",
      "\n",
      "K used 3\n",
      "Mean Absolute Error: 0.550515661135178\n",
      "\n",
      "K used 4\n",
      "Mean Absolute Error: 0.5579194848281454\n",
      "\n",
      "K used 5\n",
      "Mean Absolute Error: 0.5496612214698752\n",
      "\n",
      "K used 6\n",
      "Mean Absolute Error: 0.551045453564432\n",
      "\n",
      "K used 7\n",
      "Mean Absolute Error: 0.5487956874578919\n",
      "\n",
      "K used 8\n",
      "Mean Absolute Error: 0.5526278705465096\n",
      "\n",
      "K used 9\n",
      "Mean Absolute Error: 0.5481413572592132\n",
      "\n",
      "K used 10\n",
      "Mean Absolute Error: 0.5455392013832174\n",
      "\n",
      "K used 11\n",
      "Mean Absolute Error: 0.5480317142751113\n",
      "\n",
      "K used 12\n",
      "Mean Absolute Error: 0.5471352353187355\n",
      "\n",
      "K used 13\n",
      "Mean Absolute Error: 0.5540243435214717\n",
      "\n",
      "K used 14\n",
      "Mean Absolute Error: 0.5570023596799162\n",
      "\n",
      "K used 15\n",
      "Mean Absolute Error: 0.5580607245669994\n",
      "\n",
      "K used 16\n",
      "Mean Absolute Error: 0.5571332758480929\n",
      "\n",
      "K used 17\n",
      "Mean Absolute Error: 0.5611649394088247\n",
      "\n",
      "K used 18\n",
      "Mean Absolute Error: 0.5622232718660157\n",
      "\n",
      "K used 19\n",
      "Mean Absolute Error: 0.5614687564429783\n",
      "\n",
      "K used 20\n",
      "Mean Absolute Error: 0.5638667511619062\n",
      "\n",
      "K used 21\n",
      "Mean Absolute Error: 0.5615258275939464\n",
      "\n",
      "K used 22\n",
      "Mean Absolute Error: 0.5632077097865084\n",
      "\n",
      "K used 23\n",
      "Mean Absolute Error: 0.5593259461096233\n",
      "\n",
      "K used 24\n",
      "Mean Absolute Error: 0.5623702335855243\n",
      "\n",
      "K used 25\n",
      "Mean Absolute Error: 0.5620616580624347\n",
      "\n",
      "K used 26\n",
      "Mean Absolute Error: 0.5644034881599898\n",
      "\n",
      "K used 27\n",
      "Mean Absolute Error: 0.5657040294680017\n",
      "\n",
      "K used 28\n",
      "Mean Absolute Error: 0.5645669600204195\n",
      "\n",
      "K used 29\n",
      "Mean Absolute Error: 0.5637172089020649\n",
      "\n",
      "K used 30\n",
      "Mean Absolute Error: 0.5648605119883479\n",
      "\n",
      "K used 31\n",
      "Mean Absolute Error: 0.565350695286059\n",
      "\n",
      "K used 32\n",
      "Mean Absolute Error: 0.567919496872477\n",
      "\n",
      "K used 33\n",
      "Mean Absolute Error: 0.5683490048961463\n",
      "\n",
      "K used 34\n",
      "Mean Absolute Error: 0.572496584678548\n",
      "\n",
      "K used 35\n",
      "Mean Absolute Error: 0.5728337796299511\n",
      "\n",
      "K used 36\n",
      "Mean Absolute Error: 0.5728298476767368\n",
      "\n",
      "K used 37\n",
      "Mean Absolute Error: 0.5714790104298965\n",
      "\n",
      "K used 38\n",
      "Mean Absolute Error: 0.5718643649849575\n",
      "\n",
      "K used 39\n",
      "Mean Absolute Error: 0.5734027867108747\n",
      "\n"
     ]
    }
   ],
   "source": [
    "lst = []\n",
    "\n",
    "for i in range(1, int(len(df)**(1/2))):\n",
    "    model = KNeighborsRegressor(n_neighbors=i)\n",
    "    model.fit(x_train_scaled, y_train)\n",
    "\n",
    "    y_pred = model.predict(x_test_scaled)\n",
    "    \n",
    "    mae = mean_absolute_error(y_test, y_pred)\n",
    "\n",
    "    lst.append(mae)\n",
    "\n",
    "    print(\"K used\", i)\n",
    "    print(\"Mean Absolute Error:\", mae)\n",
    "    print(\"\")"
   ]
  },
  {
   "cell_type": "code",
   "execution_count": 10,
   "metadata": {},
   "outputs": [
    {
     "name": "stdout",
     "output_type": "stream",
     "text": [
      "Mean Absolute Error (scaled): 0.5455392013832174\n"
     ]
    }
   ],
   "source": [
    "# KNN Scaled\n",
    "KNN_scaled = KNeighborsRegressor(n_neighbors=lst.index(min(lst))+1)\n",
    "KNN_scaled.fit(x_train_scaled, y_train)\n",
    "y_pred_scaled = KNN_scaled.predict(x_test_scaled)\n",
    "mae_scaled = mean_absolute_error(y_test, y_pred_scaled)\n",
    "print(\"Mean Absolute Error (scaled):\", mae_scaled)"
   ]
  },
  {
   "cell_type": "code",
   "execution_count": 11,
   "metadata": {},
   "outputs": [
    {
     "name": "stdout",
     "output_type": "stream",
     "text": [
      "Mean Absolute Error (PCA): 0.5554526308210875\n"
     ]
    }
   ],
   "source": [
    "# KNN PCA\n",
    "KNN_pca = KNeighborsRegressor(n_neighbors=lst.index(min(lst))+1)\n",
    "KNN_pca.fit(x_train_pca, y_train)\n",
    "y_pred_pca = KNN_pca.predict(x_test_pca)\n",
    "mae_pca = mean_absolute_error(y_test, y_pred_pca)\n",
    "print(\"Mean Absolute Error (PCA):\", mae_pca)"
   ]
  },
  {
   "cell_type": "code",
   "execution_count": 12,
   "metadata": {},
   "outputs": [
    {
     "name": "stdout",
     "output_type": "stream",
     "text": [
      "K used 1\n",
      "Mean Absolute Error: 0.6812978326311322\n",
      "\n",
      "K used 2\n",
      "Mean Absolute Error: 0.5795367117279592\n",
      "\n",
      "K used 3\n",
      "Mean Absolute Error: 0.550515661135178\n",
      "\n",
      "K used 4\n",
      "Mean Absolute Error: 0.5579194848281454\n",
      "\n",
      "K used 5\n",
      "Mean Absolute Error: 0.5496612214698752\n",
      "\n",
      "K used 6\n",
      "Mean Absolute Error: 0.551045453564432\n",
      "\n",
      "K used 7\n",
      "Mean Absolute Error: 0.5487956874578919\n",
      "\n",
      "K used 8\n",
      "Mean Absolute Error: 0.5526278705465096\n",
      "\n",
      "K used 9\n",
      "Mean Absolute Error: 0.5481413572592132\n",
      "\n",
      "K used 10\n",
      "Mean Absolute Error: 0.5455392013832174\n",
      "\n",
      "K used 11\n",
      "Mean Absolute Error: 0.5480317142751113\n",
      "\n",
      "K used 12\n",
      "Mean Absolute Error: 0.5471352353187355\n",
      "\n",
      "K used 13\n",
      "Mean Absolute Error: 0.5540243435214717\n",
      "\n",
      "K used 14\n",
      "Mean Absolute Error: 0.5570023596799162\n",
      "\n",
      "K used 15\n",
      "Mean Absolute Error: 0.5580607245669994\n",
      "\n",
      "K used 16\n",
      "Mean Absolute Error: 0.5571332758480929\n",
      "\n",
      "K used 17\n",
      "Mean Absolute Error: 0.5611649394088247\n",
      "\n",
      "K used 18\n",
      "Mean Absolute Error: 0.5622232718660157\n",
      "\n",
      "K used 19\n",
      "Mean Absolute Error: 0.5614687564429783\n",
      "\n",
      "K used 20\n",
      "Mean Absolute Error: 0.5638667511619062\n",
      "\n",
      "K used 21\n",
      "Mean Absolute Error: 0.5615258275939464\n",
      "\n",
      "K used 22\n",
      "Mean Absolute Error: 0.5632077097865084\n",
      "\n",
      "K used 23\n",
      "Mean Absolute Error: 0.5593259461096233\n",
      "\n",
      "K used 24\n",
      "Mean Absolute Error: 0.5623702335855243\n",
      "\n",
      "K used 25\n",
      "Mean Absolute Error: 0.5620616580624347\n",
      "\n",
      "K used 26\n",
      "Mean Absolute Error: 0.5644034881599898\n",
      "\n",
      "K used 27\n",
      "Mean Absolute Error: 0.5657040294680017\n",
      "\n",
      "K used 28\n",
      "Mean Absolute Error: 0.5645669600204195\n",
      "\n",
      "K used 29\n",
      "Mean Absolute Error: 0.5637172089020649\n",
      "\n",
      "K used 30\n",
      "Mean Absolute Error: 0.5648605119883479\n",
      "\n",
      "K used 31\n",
      "Mean Absolute Error: 0.565350695286059\n",
      "\n",
      "K used 32\n",
      "Mean Absolute Error: 0.567919496872477\n",
      "\n",
      "K used 33\n",
      "Mean Absolute Error: 0.5683490048961463\n",
      "\n",
      "K used 34\n",
      "Mean Absolute Error: 0.572496584678548\n",
      "\n",
      "K used 35\n",
      "Mean Absolute Error: 0.5728337796299511\n",
      "\n",
      "K used 36\n",
      "Mean Absolute Error: 0.5728298476767368\n",
      "\n",
      "K used 37\n",
      "Mean Absolute Error: 0.5714790104298965\n",
      "\n",
      "K used 38\n",
      "Mean Absolute Error: 0.5718643649849575\n",
      "\n",
      "K used 39\n",
      "Mean Absolute Error: 0.5734027867108747\n",
      "\n"
     ]
    }
   ],
   "source": [
    "# model\n",
    "lst = []\n",
    "\n",
    "for i in range(1, int(len(df)**(1/2))):\n",
    "    model = KNeighborsRegressor(n_neighbors=i)\n",
    "    model.fit(x_train_scaled, y_train)\n",
    "\n",
    "    y_pred = model.predict(x_test_scaled)\n",
    "    \n",
    "    mae = mean_absolute_error(y_test, y_pred)\n",
    "\n",
    "    lst.append(mae)\n",
    "\n",
    "    print(\"K used\", i)\n",
    "    print(\"Mean Absolute Error:\", mae)\n",
    "    print(\"\")"
   ]
  },
  {
   "cell_type": "code",
   "execution_count": 13,
   "metadata": {},
   "outputs": [
    {
     "data": {
      "text/plain": [
       "9"
      ]
     },
     "execution_count": 13,
     "metadata": {},
     "output_type": "execute_result"
    }
   ],
   "source": [
    "lst.index(min(lst))"
   ]
  },
  {
   "cell_type": "code",
   "execution_count": 14,
   "metadata": {},
   "outputs": [
    {
     "data": {
      "image/png": "[encoded data removed]",
      "text/plain": [
       "<Figure size 640x480 with 1 Axes>"
      ]
     },
     "metadata": {},
     "output_type": "display_data"
    }
   ],
   "source": [
    "# iterate through numbers of principal components\n",
    "num_components = range(1, pca.n_components_ + 1)\n",
    "mae_values = []\n",
    "\n",
    "for n in num_components:\n",
    "    pca = PCA(n_components=n)\n",
    "    x_train_pca = pca.fit_transform(x_train_scaled)\n",
    "    x_test_pca = pca.transform(x_test_scaled)\n",
    "\n",
    "    KNN = KNeighborsRegressor(n_neighbors=lst.index(min(lst))+1)\n",
    "    KNN.fit(x_train_pca, y_train)\n",
    "    y_pred = KNN.predict(x_test_pca)\n",
    "\n",
    "    mae = mean_absolute_error(y_test, y_pred)\n",
    "    mae_values.append(mae)\n",
    "\n",
    "# Plot the mean absolute error vs. number of principal components\n",
    "plt.plot(num_components, mae_values)\n",
    "plt.xlabel(\"Number of Principal Components\")\n",
    "plt.ylabel(\"Mean Absolute Error\")\n",
    "plt.title(\"Mean Absolute Error vs. Number of Principal Components\")\n",
    "plt.axhline(y=mae_scaled, color='r', ls='--', label='Scaled')\n",
    "plt.axvline(x=pca.n_components_, color='g', ls='--', label='90% Variance')\n",
    "plt.legend()\n",
    "plt.show()"
   ]
  },
  {
   "cell_type": "code",
   "execution_count": 15,
   "metadata": {},
   "outputs": [
    {
     "data": {
      "text/plain": [
       "(24, 0.5531625936444436)"
      ]
     },
     "execution_count": 15,
     "metadata": {},
     "output_type": "execute_result"
    }
   ],
   "source": [
    "num_components[mae_values.index(min(mae_values))], min(mae_values)"
   ]
  },
  {
   "cell_type": "code",
   "execution_count": 16,
   "metadata": {},
   "outputs": [
    {
     "data": {
      "text/plain": [
       "[0.7293671290261285,\n",
       " 0.7125822196376835,\n",
       " 0.6887358100566298,\n",
       " 0.6033768608467968,\n",
       " 0.5871990103584578,\n",
       " 0.5952113736440304,\n",
       " 0.5983186129085923,\n",
       " 0.5807602322817804,\n",
       " 0.5854394939296861,\n",
       " 0.5867036404384901,\n",
       " 0.5815380129176834,\n",
       " 0.5862648890076574,\n",
       " 0.5748139133810309,\n",
       " 0.5847121467869558,\n",
       " 0.5801059824217714,\n",
       " 0.5751437863892535,\n",
       " 0.5684774746086811,\n",
       " 0.5661464838100153,\n",
       " 0.5696328555208334,\n",
       " 0.5548072207122147,\n",
       " 0.5656008738000773,\n",
       " 0.5622963069209174,\n",
       " 0.5664162175118161,\n",
       " 0.5531625936444436,\n",
       " 0.5629327297195218,\n",
       " 0.56240898899839,\n",
       " 0.5616732155662443,\n",
       " 0.5694751451435177,\n",
       " 0.5701633103723891,\n",
       " 0.5710248679499942,\n",
       " 0.56370322957324,\n",
       " 0.5621922870593059,\n",
       " 0.5628354552149688,\n",
       " 0.5599732787248192,\n",
       " 0.5570240480152504,\n",
       " 0.5542924147594313]"
      ]
     },
     "execution_count": 16,
     "metadata": {},
     "output_type": "execute_result"
    }
   ],
   "source": [
    "mae_values"
   ]
  },
  {
   "cell_type": "code",
   "execution_count": null,
   "metadata": {},
   "outputs": [],
   "source": []
  },
  {
   "cell_type": "code",
   "execution_count": null,
   "metadata": {},
   "outputs": [],
   "source": []
  },
  {
   "cell_type": "code",
   "execution_count": null,
   "metadata": {},
   "outputs": [],
   "source": []
  }
 ],
 "metadata": {
  "kernelspec": {
   "display_name": "Python 3",
   "language": "python",
   "name": "python3"
  },
  "language_info": {
   "codemirror_mode": {
    "name": "ipython",
    "version": 3
   },
   "file_extension": ".py",
   "mimetype": "text/x-python",
   "name": "python",
   "nbconvert_exporter": "python",
   "pygments_lexer": "ipython3",
   "version": "3.11.3"
  },
  "orig_nbformat": 4
 },
 "nbformat": 4,
 "nbformat_minor": 2
}
