{
 "cells": [
  {
   "attachments": {},
   "cell_type": "markdown",
   "metadata": {},
   "source": [
    "##### Set Up"
   ]
  },
  {
   "cell_type": "code",
   "execution_count": 1,
   "metadata": {},
   "outputs": [],
   "source": [
    "## imports and dependencies \n",
    "\n",
    "# standard libraries \n",
    "import pandas as pd \n",
    "import numpy as np\n",
    "import matplotlib.pyplot as plt\n",
    "\n",
    "# models\n",
    "from sklearn.neighbors import KNeighborsRegressor\n",
    "\n",
    "# data split\n",
    "from sklearn.model_selection import train_test_split\n",
    "\n",
    "# scaling \n",
    "from sklearn.preprocessing import StandardScaler\n",
    "\n",
    "# PCA\n",
    "from sklearn.decomposition import PCA\n",
    "\n",
    "# accuracy\n",
    "from sklearn.metrics import mean_absolute_error"
   ]
  },
  {
   "attachments": {},
   "cell_type": "markdown",
   "metadata": {},
   "source": [
    "##### Data"
   ]
  },
  {
   "cell_type": "code",
   "execution_count": 2,
   "metadata": {},
   "outputs": [],
   "source": [
    "df = pd.read_csv(\"tar_enc_dataset.csv\")"
   ]
  },
  {
   "cell_type": "code",
   "execution_count": 3,
   "metadata": {},
   "outputs": [],
   "source": [
    "df = df.drop(['Weekly Gross', 'Total Gross', 'Annual Gross', 'Weekly Net', 'Annual Net', 'Ln Annual Net', 'AgeSQ'], axis=1)"
   ]
  },
  {
   "attachments": {},
   "cell_type": "markdown",
   "metadata": {},
   "source": [
    "##### Pre Processing"
   ]
  },
  {
   "cell_type": "code",
   "execution_count": 4,
   "metadata": {},
   "outputs": [],
   "source": [
    "# parameters and target\n",
    "x = df.drop('Ln Weekly Gross', axis=1)\n",
    "y = df['Ln Weekly Gross']"
   ]
  },
  {
   "cell_type": "code",
   "execution_count": 5,
   "metadata": {},
   "outputs": [],
   "source": [
    "# train test split\n",
    "x_train, x_test, y_train, y_test = train_test_split(x, y, test_size=0.2, random_state=42)"
   ]
  },
  {
   "cell_type": "code",
   "execution_count": 6,
   "metadata": {},
   "outputs": [],
   "source": [
    "# scale\n",
    "scaler = StandardScaler()\n",
    "x_train_scaled = scaler.fit_transform(x_train)\n",
    "x_test_scaled = scaler.transform(x_test)"
   ]
  },
  {
   "cell_type": "code",
   "execution_count": 7,
   "metadata": {},
   "outputs": [],
   "source": [
    "# PCA\n",
    "pca = PCA(n_components=0.9)  \n",
    "x_train_pca = pca.fit_transform(x_train_scaled)\n",
    "x_test_pca = pca.transform(x_test_scaled)"
   ]
  },
  {
   "attachments": {},
   "cell_type": "markdown",
   "metadata": {},
   "source": [
    "##### Models"
   ]
  },
  {
   "cell_type": "code",
   "execution_count": 8,
   "metadata": {},
   "outputs": [
    {
     "name": "stdout",
     "output_type": "stream",
     "text": [
      "K used 1\n",
      "Mean Absolute Error: 0.6569715453222352\n",
      "\n",
      "K used 2\n",
      "Mean Absolute Error: 0.5858376052860176\n",
      "\n",
      "K used 3\n",
      "Mean Absolute Error: 0.543670707574362\n",
      "\n",
      "K used 4\n",
      "Mean Absolute Error: 0.5529644213358039\n",
      "\n",
      "K used 5\n",
      "Mean Absolute Error: 0.5306068695022153\n",
      "\n",
      "K used 6\n",
      "Mean Absolute Error: 0.5283473517931712\n",
      "\n",
      "K used 7\n",
      "Mean Absolute Error: 0.5266126666420213\n",
      "\n",
      "K used 8\n",
      "Mean Absolute Error: 0.5311159249278731\n",
      "\n",
      "K used 9\n",
      "Mean Absolute Error: 0.544140291311854\n",
      "\n",
      "K used 10\n",
      "Mean Absolute Error: 0.5456188119474189\n",
      "\n",
      "K used 11\n",
      "Mean Absolute Error: 0.5478486236447296\n",
      "\n",
      "K used 12\n",
      "Mean Absolute Error: 0.545663414826984\n",
      "\n",
      "K used 13\n",
      "Mean Absolute Error: 0.5500059097388169\n",
      "\n",
      "K used 14\n",
      "Mean Absolute Error: 0.5523663428989557\n",
      "\n",
      "K used 15\n",
      "Mean Absolute Error: 0.5534921773416555\n",
      "\n",
      "K used 16\n",
      "Mean Absolute Error: 0.5507708933911557\n",
      "\n",
      "K used 17\n",
      "Mean Absolute Error: 0.5513676360900481\n",
      "\n",
      "K used 18\n",
      "Mean Absolute Error: 0.5491609227558517\n",
      "\n",
      "K used 19\n",
      "Mean Absolute Error: 0.5482016794688055\n",
      "\n",
      "K used 20\n",
      "Mean Absolute Error: 0.5485000051560966\n",
      "\n",
      "K used 21\n",
      "Mean Absolute Error: 0.5515955608940326\n",
      "\n",
      "K used 22\n",
      "Mean Absolute Error: 0.5541081466356773\n",
      "\n",
      "K used 23\n",
      "Mean Absolute Error: 0.5565594259727612\n",
      "\n",
      "K used 24\n",
      "Mean Absolute Error: 0.5587251963521563\n",
      "\n",
      "K used 25\n",
      "Mean Absolute Error: 0.5588049966316067\n",
      "\n",
      "K used 26\n",
      "Mean Absolute Error: 0.5605731826506694\n",
      "\n",
      "K used 27\n",
      "Mean Absolute Error: 0.5599602251676689\n",
      "\n",
      "K used 28\n",
      "Mean Absolute Error: 0.5613873501653903\n",
      "\n",
      "K used 29\n",
      "Mean Absolute Error: 0.5607641787309025\n",
      "\n",
      "K used 30\n",
      "Mean Absolute Error: 0.5642543559955648\n",
      "\n",
      "K used 31\n",
      "Mean Absolute Error: 0.5640093272506871\n",
      "\n",
      "K used 32\n",
      "Mean Absolute Error: 0.5647367786116757\n",
      "\n",
      "K used 33\n",
      "Mean Absolute Error: 0.5657020953333313\n",
      "\n",
      "K used 34\n",
      "Mean Absolute Error: 0.5664758958220695\n",
      "\n",
      "K used 35\n",
      "Mean Absolute Error: 0.566729549486355\n",
      "\n",
      "K used 36\n",
      "Mean Absolute Error: 0.5683065841017028\n",
      "\n",
      "K used 37\n",
      "Mean Absolute Error: 0.5688670976328131\n",
      "\n",
      "K used 38\n",
      "Mean Absolute Error: 0.5702137900737149\n",
      "\n",
      "K used 39\n",
      "Mean Absolute Error: 0.571021172312673\n",
      "\n"
     ]
    }
   ],
   "source": [
    "# model\n",
    "lst = []\n",
    "\n",
    "for i in range(1, int(len(df)**(1/2))):\n",
    "    model = KNeighborsRegressor(n_neighbors=i)\n",
    "    model.fit(x_train_scaled, y_train)\n",
    "\n",
    "    y_pred = model.predict(x_test_scaled)\n",
    "    \n",
    "    mae = mean_absolute_error(y_test, y_pred)\n",
    "\n",
    "    lst.append(mae)\n",
    "\n",
    "    print(\"K used\", i)\n",
    "    print(\"Mean Absolute Error:\", mae)\n",
    "    print(\"\")"
   ]
  },
  {
   "cell_type": "code",
   "execution_count": 9,
   "metadata": {},
   "outputs": [
    {
     "name": "stdout",
     "output_type": "stream",
     "text": [
      "Mean Absolute Error (scaled): 0.5266126666420213\n"
     ]
    }
   ],
   "source": [
    "# KNN Scaled\n",
    "KNN_scaled = KNeighborsRegressor(n_neighbors=lst.index(min(lst))+1)\n",
    "KNN_scaled.fit(x_train_scaled, y_train)\n",
    "y_pred_scaled = KNN_scaled.predict(x_test_scaled)\n",
    "mae_scaled = mean_absolute_error(y_test, y_pred_scaled)\n",
    "print(\"Mean Absolute Error (scaled):\", mae_scaled)"
   ]
  },
  {
   "cell_type": "code",
   "execution_count": 10,
   "metadata": {},
   "outputs": [
    {
     "name": "stdout",
     "output_type": "stream",
     "text": [
      "Mean Absolute Error (PCA): 0.552932488315131\n"
     ]
    }
   ],
   "source": [
    "# KNN PCA\n",
    "KNN_pca = KNeighborsRegressor(n_neighbors=lst.index(min(lst))+1)\n",
    "KNN_pca.fit(x_train_pca, y_train)\n",
    "y_pred_pca = KNN_pca.predict(x_test_pca)\n",
    "mae_pca = mean_absolute_error(y_test, y_pred_pca)\n",
    "print(\"Mean Absolute Error (PCA):\", mae_pca)"
   ]
  },
  {
   "cell_type": "code",
   "execution_count": 11,
   "metadata": {},
   "outputs": [
    {
     "data": {
      "text/plain": [
       "6"
      ]
     },
     "execution_count": 11,
     "metadata": {},
     "output_type": "execute_result"
    }
   ],
   "source": [
    "lst.index(min(lst))"
   ]
  },
  {
   "cell_type": "code",
   "execution_count": 12,
   "metadata": {},
   "outputs": [
    {
     "data": {
      "image/png": "[encoded data removed]",
      "text/plain": [
       "<Figure size 640x480 with 1 Axes>"
      ]
     },
     "metadata": {},
     "output_type": "display_data"
    }
   ],
   "source": [
    "# iterate through numbers of principal components\n",
    "num_components = range(1, pca.n_components_ + 1)\n",
    "mae_values = []\n",
    "\n",
    "for n in num_components:\n",
    "    pca = PCA(n_components=n)\n",
    "    x_train_pca = pca.fit_transform(x_train_scaled)\n",
    "    x_test_pca = pca.transform(x_test_scaled)\n",
    "\n",
    "    KNN = KNeighborsRegressor(n_neighbors=lst.index(min(lst))+1)\n",
    "    KNN.fit(x_train_pca, y_train)\n",
    "    y_pred = KNN.predict(x_test_pca)\n",
    "\n",
    "    mae = mean_absolute_error(y_test, y_pred)\n",
    "    mae_values.append(mae)\n",
    "\n",
    "# Plot the mean absolute error vs. number of principal components\n",
    "plt.plot(num_components, mae_values)\n",
    "plt.xlabel(\"Number of Principal Components\")\n",
    "plt.ylabel(\"Mean Absolute Error\")\n",
    "plt.title(\"Mean Absolute Error vs. Number of Principal Components\")\n",
    "plt.axhline(y=mae_scaled, color='r', ls='--', label='Scaled')\n",
    "plt.axvline(x=pca.n_components_, color='g', ls='--', label='90% Variance')\n",
    "plt.legend()\n",
    "plt.show()"
   ]
  },
  {
   "cell_type": "code",
   "execution_count": 13,
   "metadata": {},
   "outputs": [
    {
     "data": {
      "text/plain": [
       "(19, 0.548326441512314)"
      ]
     },
     "execution_count": 13,
     "metadata": {},
     "output_type": "execute_result"
    }
   ],
   "source": [
    "num_components[mae_values.index(min(mae_values))], min(mae_values)"
   ]
  },
  {
   "cell_type": "code",
   "execution_count": 14,
   "metadata": {},
   "outputs": [
    {
     "data": {
      "text/plain": [
       "[0.7479817067378141,\n",
       " 0.7048481109281622,\n",
       " 0.7004552031754864,\n",
       " 0.6002178519543864,\n",
       " 0.6019932876689165,\n",
       " 0.595861774537744,\n",
       " 0.5912734242773254,\n",
       " 0.5867661081612354,\n",
       " 0.5996308533670606,\n",
       " 0.5879671364818134,\n",
       " 0.5928339630523419,\n",
       " 0.5887506135379215,\n",
       " 0.5758977573514941,\n",
       " 0.5785080283500066,\n",
       " 0.5687900257830208,\n",
       " 0.5621590271970157,\n",
       " 0.5590076013107,\n",
       " 0.5639227535934173,\n",
       " 0.548326441512314,\n",
       " 0.5650958195706074,\n",
       " 0.5589364143366853,\n",
       " 0.561075086296962,\n",
       " 0.5684645421653134,\n",
       " 0.5766525473065228,\n",
       " 0.5767321305786942,\n",
       " 0.571767127359127,\n",
       " 0.5640731692231793,\n",
       " 0.5617557461689945,\n",
       " 0.5600410637201849,\n",
       " 0.5650637077202,\n",
       " 0.5557353980277554,\n",
       " 0.5588287657470471,\n",
       " 0.5494653226080564]"
      ]
     },
     "execution_count": 14,
     "metadata": {},
     "output_type": "execute_result"
    }
   ],
   "source": [
    "mae_values"
   ]
  },
  {
   "cell_type": "code",
   "execution_count": null,
   "metadata": {},
   "outputs": [],
   "source": []
  }
 ],
 "metadata": {
  "kernelspec": {
   "display_name": "Python 3",
   "language": "python",
   "name": "python3"
  },
  "language_info": {
   "codemirror_mode": {
    "name": "ipython",
    "version": 3
   },
   "file_extension": ".py",
   "mimetype": "text/x-python",
   "name": "python",
   "nbconvert_exporter": "python",
   "pygments_lexer": "ipython3",
   "version": "3.11.3"
  },
  "orig_nbformat": 4
 },
 "nbformat": 4,
 "nbformat_minor": 2
}
