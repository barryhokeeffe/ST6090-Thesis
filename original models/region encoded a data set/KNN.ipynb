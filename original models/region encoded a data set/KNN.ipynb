{
 "cells": [
  {
   "attachments": {},
   "cell_type": "markdown",
   "metadata": {},
   "source": [
    "##### Set Up"
   ]
  },
  {
   "cell_type": "code",
   "execution_count": 1,
   "metadata": {},
   "outputs": [],
   "source": [
    "## imports and dependencies \n",
    "\n",
    "# standard libraries \n",
    "import pandas as pd \n",
    "import numpy as np\n",
    "import matplotlib.pyplot as plt\n",
    "\n",
    "# models\n",
    "from sklearn.neighbors import KNeighborsRegressor\n",
    "\n",
    "# data split\n",
    "from sklearn.model_selection import train_test_split\n",
    "\n",
    "# scaling \n",
    "from sklearn.preprocessing import StandardScaler\n",
    "\n",
    "# PCA\n",
    "from sklearn.decomposition import PCA\n",
    "\n",
    "# accuracy\n",
    "from sklearn.metrics import mean_absolute_error"
   ]
  },
  {
   "attachments": {},
   "cell_type": "markdown",
   "metadata": {},
   "source": [
    "##### Data"
   ]
  },
  {
   "cell_type": "code",
   "execution_count": 2,
   "metadata": {},
   "outputs": [],
   "source": [
    "df = pd.read_csv(\"region_dataset.csv\")"
   ]
  },
  {
   "cell_type": "code",
   "execution_count": 3,
   "metadata": {},
   "outputs": [],
   "source": [
    "df = df.drop(['Name', 'Weekly Gross', 'Total Gross', 'Annual Gross', 'Weekly Net', 'Annual Net', 'Ln Annual Net', 'AgeSQ', 'Gen Pos_D', 'Gen Pos_M', 'Gen Pos_F'], axis=1)"
   ]
  },
  {
   "attachments": {},
   "cell_type": "markdown",
   "metadata": {},
   "source": [
    "##### Pre Processing"
   ]
  },
  {
   "cell_type": "code",
   "execution_count": 4,
   "metadata": {},
   "outputs": [],
   "source": [
    "# parameters and target\n",
    "x = df.drop('Ln Weekly Gross', axis=1)\n",
    "y = df['Ln Weekly Gross']"
   ]
  },
  {
   "cell_type": "code",
   "execution_count": 5,
   "metadata": {},
   "outputs": [],
   "source": [
    "# train test split\n",
    "x_train, x_test, y_train, y_test = train_test_split(x, y, test_size=0.2, random_state=42)"
   ]
  },
  {
   "cell_type": "code",
   "execution_count": 6,
   "metadata": {},
   "outputs": [],
   "source": [
    "# scale\n",
    "scaler = StandardScaler()\n",
    "x_train_scaled = scaler.fit_transform(x_train)\n",
    "x_test_scaled = scaler.transform(x_test)"
   ]
  },
  {
   "cell_type": "code",
   "execution_count": 7,
   "metadata": {},
   "outputs": [],
   "source": [
    "# PCA\n",
    "pca = PCA(n_components=0.9)  \n",
    "x_train_pca = pca.fit_transform(x_train_scaled)\n",
    "x_test_pca = pca.transform(x_test_scaled)"
   ]
  },
  {
   "attachments": {},
   "cell_type": "markdown",
   "metadata": {},
   "source": [
    "##### Models"
   ]
  },
  {
   "cell_type": "code",
   "execution_count": 9,
   "metadata": {},
   "outputs": [
    {
     "name": "stdout",
     "output_type": "stream",
     "text": [
      "K used 1\n",
      "Mean Absolute Error: 0.688092079871554\n",
      "\n",
      "K used 2\n",
      "Mean Absolute Error: 0.6432938281403413\n",
      "\n",
      "K used 3\n",
      "Mean Absolute Error: 0.6164544940942718\n",
      "\n",
      "K used 4\n",
      "Mean Absolute Error: 0.6046005657624495\n",
      "\n",
      "K used 5\n",
      "Mean Absolute Error: 0.5850739788290676\n",
      "\n",
      "K used 6\n",
      "Mean Absolute Error: 0.5903816303646775\n",
      "\n",
      "K used 7\n",
      "Mean Absolute Error: 0.5838117189588613\n",
      "\n",
      "K used 8\n",
      "Mean Absolute Error: 0.5812602985195897\n",
      "\n",
      "K used 9\n",
      "Mean Absolute Error: 0.5822296463501002\n",
      "\n",
      "K used 10\n",
      "Mean Absolute Error: 0.5799354094990045\n",
      "\n",
      "K used 11\n",
      "Mean Absolute Error: 0.5807360396367478\n",
      "\n",
      "K used 12\n",
      "Mean Absolute Error: 0.5829102155454113\n",
      "\n",
      "K used 13\n",
      "Mean Absolute Error: 0.5815350193281207\n",
      "\n",
      "K used 14\n",
      "Mean Absolute Error: 0.5795194890464365\n",
      "\n",
      "K used 15\n",
      "Mean Absolute Error: 0.5771769143937024\n",
      "\n",
      "K used 16\n",
      "Mean Absolute Error: 0.5737315992451537\n",
      "\n",
      "K used 17\n",
      "Mean Absolute Error: 0.573119286059839\n",
      "\n",
      "K used 18\n",
      "Mean Absolute Error: 0.5761551725884915\n",
      "\n",
      "K used 19\n",
      "Mean Absolute Error: 0.5753796125145046\n",
      "\n",
      "K used 20\n",
      "Mean Absolute Error: 0.5753243294818038\n",
      "\n",
      "K used 21\n",
      "Mean Absolute Error: 0.5793134054596438\n",
      "\n",
      "K used 22\n",
      "Mean Absolute Error: 0.5769184710416788\n",
      "\n",
      "K used 23\n",
      "Mean Absolute Error: 0.5765299223349349\n",
      "\n",
      "K used 24\n",
      "Mean Absolute Error: 0.5750920914804397\n",
      "\n",
      "K used 25\n",
      "Mean Absolute Error: 0.5729751839274515\n",
      "\n",
      "K used 26\n",
      "Mean Absolute Error: 0.5729206639361797\n",
      "\n",
      "K used 27\n",
      "Mean Absolute Error: 0.5738351654845956\n",
      "\n",
      "K used 28\n",
      "Mean Absolute Error: 0.5770377692622043\n",
      "\n",
      "K used 29\n",
      "Mean Absolute Error: 0.5772546278146462\n",
      "\n",
      "K used 30\n",
      "Mean Absolute Error: 0.5770311495361395\n",
      "\n",
      "K used 31\n",
      "Mean Absolute Error: 0.5773702372943353\n",
      "\n",
      "K used 32\n",
      "Mean Absolute Error: 0.5771407169533086\n",
      "\n",
      "K used 33\n",
      "Mean Absolute Error: 0.5767324793429129\n",
      "\n",
      "K used 34\n",
      "Mean Absolute Error: 0.5769337929104964\n",
      "\n",
      "K used 35\n",
      "Mean Absolute Error: 0.5770725193759729\n",
      "\n",
      "K used 36\n",
      "Mean Absolute Error: 0.5765752328891797\n",
      "\n",
      "K used 37\n",
      "Mean Absolute Error: 0.5771221334948231\n",
      "\n",
      "K used 38\n",
      "Mean Absolute Error: 0.5777832400564266\n",
      "\n",
      "K used 39\n",
      "Mean Absolute Error: 0.5790530045923332\n",
      "\n"
     ]
    }
   ],
   "source": [
    "lst = []\n",
    "\n",
    "for i in range(1, int(len(df)**(1/2))):\n",
    "    model = KNeighborsRegressor(n_neighbors=i)\n",
    "    model.fit(x_train_scaled, y_train)\n",
    "\n",
    "    y_pred = model.predict(x_test_scaled)\n",
    "    \n",
    "    mae = mean_absolute_error(y_test, y_pred)\n",
    "\n",
    "    lst.append(mae)\n",
    "\n",
    "    print(\"K used\", i)\n",
    "    print(\"Mean Absolute Error:\", mae)\n",
    "    print(\"\")"
   ]
  },
  {
   "cell_type": "code",
   "execution_count": 10,
   "metadata": {},
   "outputs": [
    {
     "name": "stdout",
     "output_type": "stream",
     "text": [
      "Mean Absolute Error (scaled): 0.5729206639361797\n"
     ]
    }
   ],
   "source": [
    "# KNN Scaled\n",
    "KNN_scaled = KNeighborsRegressor(n_neighbors=lst.index(min(lst))+1)\n",
    "KNN_scaled.fit(x_train_scaled, y_train)\n",
    "y_pred_scaled = KNN_scaled.predict(x_test_scaled)\n",
    "mae_scaled = mean_absolute_error(y_test, y_pred_scaled)\n",
    "print(\"Mean Absolute Error (scaled):\", mae_scaled)"
   ]
  },
  {
   "cell_type": "code",
   "execution_count": 11,
   "metadata": {},
   "outputs": [
    {
     "name": "stdout",
     "output_type": "stream",
     "text": [
      "Mean Absolute Error (PCA): 0.5835304587461164\n"
     ]
    }
   ],
   "source": [
    "# KNN PCA\n",
    "KNN_pca = KNeighborsRegressor(n_neighbors=lst.index(min(lst))+1)\n",
    "KNN_pca.fit(x_train_pca, y_train)\n",
    "y_pred_pca = KNN_pca.predict(x_test_pca)\n",
    "mae_pca = mean_absolute_error(y_test, y_pred_pca)\n",
    "print(\"Mean Absolute Error (PCA):\", mae_pca)"
   ]
  },
  {
   "cell_type": "code",
   "execution_count": null,
   "metadata": {},
   "outputs": [
    {
     "name": "stdout",
     "output_type": "stream",
     "text": [
      "K used 1\n",
      "Mean Absolute Error: 0.688092079871554\n",
      "\n",
      "K used 2\n",
      "Mean Absolute Error: 0.6432938281403413\n",
      "\n",
      "K used 3\n",
      "Mean Absolute Error: 0.6164544940942718\n",
      "\n",
      "K used 4\n",
      "Mean Absolute Error: 0.6046005657624495\n",
      "\n",
      "K used 5\n",
      "Mean Absolute Error: 0.5850739788290676\n",
      "\n",
      "K used 6\n",
      "Mean Absolute Error: 0.5903816303646775\n",
      "\n",
      "K used 7\n",
      "Mean Absolute Error: 0.5838117189588613\n",
      "\n",
      "K used 8\n",
      "Mean Absolute Error: 0.5812602985195897\n",
      "\n",
      "K used 9\n",
      "Mean Absolute Error: 0.5822296463501002\n",
      "\n",
      "K used 10\n",
      "Mean Absolute Error: 0.5799354094990045\n",
      "\n",
      "K used 11\n",
      "Mean Absolute Error: 0.5807360396367478\n",
      "\n",
      "K used 12\n",
      "Mean Absolute Error: 0.5829102155454113\n",
      "\n",
      "K used 13\n",
      "Mean Absolute Error: 0.5815350193281207\n",
      "\n",
      "K used 14\n",
      "Mean Absolute Error: 0.5795194890464365\n",
      "\n",
      "K used 15\n",
      "Mean Absolute Error: 0.5771769143937024\n",
      "\n",
      "K used 16\n",
      "Mean Absolute Error: 0.5737315992451537\n",
      "\n",
      "K used 17\n",
      "Mean Absolute Error: 0.573119286059839\n",
      "\n",
      "K used 18\n",
      "Mean Absolute Error: 0.5761551725884915\n",
      "\n",
      "K used 19\n",
      "Mean Absolute Error: 0.5753796125145046\n",
      "\n",
      "K used 20\n",
      "Mean Absolute Error: 0.5753243294818038\n",
      "\n",
      "K used 21\n",
      "Mean Absolute Error: 0.5793134054596438\n",
      "\n",
      "K used 22\n",
      "Mean Absolute Error: 0.5769184710416788\n",
      "\n",
      "K used 23\n",
      "Mean Absolute Error: 0.5765299223349349\n",
      "\n",
      "K used 24\n",
      "Mean Absolute Error: 0.5750920914804397\n",
      "\n",
      "K used 25\n",
      "Mean Absolute Error: 0.5729751839274515\n",
      "\n",
      "K used 26\n",
      "Mean Absolute Error: 0.5729206639361797\n",
      "\n",
      "K used 27\n",
      "Mean Absolute Error: 0.5738351654845956\n",
      "\n",
      "K used 28\n",
      "Mean Absolute Error: 0.5770377692622043\n",
      "\n",
      "K used 29\n",
      "Mean Absolute Error: 0.5772546278146462\n",
      "\n",
      "K used 30\n",
      "Mean Absolute Error: 0.5770311495361395\n",
      "\n",
      "K used 31\n",
      "Mean Absolute Error: 0.5773702372943353\n",
      "\n",
      "K used 32\n",
      "Mean Absolute Error: 0.5771407169533086\n",
      "\n",
      "K used 33\n",
      "Mean Absolute Error: 0.5767324793429129\n",
      "\n",
      "K used 34\n",
      "Mean Absolute Error: 0.5769337929104964\n",
      "\n",
      "K used 35\n",
      "Mean Absolute Error: 0.5770725193759729\n",
      "\n",
      "K used 36\n",
      "Mean Absolute Error: 0.5765752328891797\n",
      "\n",
      "K used 37\n",
      "Mean Absolute Error: 0.5771221334948231\n",
      "\n",
      "K used 38\n",
      "Mean Absolute Error: 0.5777832400564266\n",
      "\n",
      "K used 39\n",
      "Mean Absolute Error: 0.5790530045923332\n",
      "\n"
     ]
    }
   ],
   "source": [
    "# model\n",
    "lst = []\n",
    "\n",
    "for i in range(1, int(len(df)**(1/2))):\n",
    "    model = KNeighborsRegressor(n_neighbors=i)\n",
    "    model.fit(x_train_scaled, y_train)\n",
    "\n",
    "    y_pred = model.predict(x_test_scaled)\n",
    "    \n",
    "    mae = mean_absolute_error(y_test, y_pred)\n",
    "\n",
    "    lst.append(mae)\n",
    "\n",
    "    print(\"K used\", i)\n",
    "    print(\"Mean Absolute Error:\", mae)\n",
    "    print(\"\")"
   ]
  },
  {
   "cell_type": "code",
   "execution_count": null,
   "metadata": {},
   "outputs": [
    {
     "data": {
      "text/plain": [
       "25"
      ]
     },
     "execution_count": 12,
     "metadata": {},
     "output_type": "execute_result"
    }
   ],
   "source": [
    "lst.index(min(lst))"
   ]
  },
  {
   "cell_type": "code",
   "execution_count": 12,
   "metadata": {},
   "outputs": [
    {
     "data": {
      "image/png": "[encoded data removed]",
      "text/plain": [
       "<Figure size 640x480 with 1 Axes>"
      ]
     },
     "metadata": {},
     "output_type": "display_data"
    }
   ],
   "source": [
    "# iterate through numbers of principal components\n",
    "num_components = range(1, pca.n_components_ + 1)\n",
    "mae_values = []\n",
    "\n",
    "for n in num_components:\n",
    "    pca = PCA(n_components=n)\n",
    "    x_train_pca = pca.fit_transform(x_train_scaled)\n",
    "    x_test_pca = pca.transform(x_test_scaled)\n",
    "\n",
    "    KNN = KNeighborsRegressor(n_neighbors=lst.index(min(lst))+1)\n",
    "    KNN.fit(x_train_pca, y_train)\n",
    "    y_pred = KNN.predict(x_test_pca)\n",
    "\n",
    "    mae = mean_absolute_error(y_test, y_pred)\n",
    "    mae_values.append(mae)\n",
    "\n",
    "# Plot the mean absolute error vs. number of principal components\n",
    "plt.plot(num_components, mae_values)\n",
    "plt.xlabel(\"Number of Principal Components\")\n",
    "plt.ylabel(\"Mean Absolute Error\")\n",
    "plt.title(\"Mean Absolute Error vs. Number of Principal Components\")\n",
    "plt.axhline(y=mae_scaled, color='r', ls='--', label='Scaled')\n",
    "plt.axvline(x=pca.n_components_, color='g', ls='--', label='90% Variance')\n",
    "plt.legend()\n",
    "plt.show()"
   ]
  },
  {
   "cell_type": "code",
   "execution_count": 13,
   "metadata": {},
   "outputs": [
    {
     "data": {
      "text/plain": [
       "(19, 0.5752198313127329)"
      ]
     },
     "execution_count": 13,
     "metadata": {},
     "output_type": "execute_result"
    }
   ],
   "source": [
    "num_components[mae_values.index(min(mae_values))], min(mae_values)"
   ]
  },
  {
   "cell_type": "code",
   "execution_count": null,
   "metadata": {},
   "outputs": [
    {
     "data": {
      "text/plain": [
       "[29656.44566170026,\n",
       " 28375.336985100785,\n",
       " 27280.318141980715,\n",
       " 21900.92506573181,\n",
       " 21607.85407537248,\n",
       " 22632.326029798423,\n",
       " 21791.38913234005,\n",
       " 21766.204645048205,\n",
       " 22428.194127957933,\n",
       " 22322.68492550394,\n",
       " 22091.265994741454,\n",
       " 21954.689307624893,\n",
       " 21623.820333041192,\n",
       " 21524.24189307625,\n",
       " 20963.53943908852,\n",
       " 20775.474145486412,\n",
       " 20324.148992112183,\n",
       " 20153.055214723925,\n",
       " 19955.013584574932,\n",
       " 19574.084136722176,\n",
       " 19126.517090271693,\n",
       " 19011.01183172656,\n",
       " 19357.13584574934,\n",
       " 19259.727870289218,\n",
       " 19580.85977212971,\n",
       " 19536.653812445224,\n",
       " 19283.165205959685,\n",
       " 19350.584136722173,\n",
       " 19252.223926380368,\n",
       " 19423.127519719543,\n",
       " 19393.302804557406,\n",
       " 19296.875547765118,\n",
       " 19428.898334794038]"
      ]
     },
     "execution_count": 21,
     "metadata": {},
     "output_type": "execute_result"
    }
   ],
   "source": [
    "mae_values"
   ]
  },
  {
   "cell_type": "code",
   "execution_count": null,
   "metadata": {},
   "outputs": [],
   "source": []
  }
 ],
 "metadata": {
  "kernelspec": {
   "display_name": "Python 3",
   "language": "python",
   "name": "python3"
  },
  "language_info": {
   "codemirror_mode": {
    "name": "ipython",
    "version": 3
   },
   "file_extension": ".py",
   "mimetype": "text/x-python",
   "name": "python",
   "nbconvert_exporter": "python",
   "pygments_lexer": "ipython3",
   "version": "3.11.3"
  },
  "orig_nbformat": 4
 },
 "nbformat": 4,
 "nbformat_minor": 2
}
